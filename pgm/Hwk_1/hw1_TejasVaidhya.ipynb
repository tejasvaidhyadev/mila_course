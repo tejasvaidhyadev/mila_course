{
  "nbformat": 4,
  "nbformat_minor": 0,
  "metadata": {
    "colab": {
      "provenance": [],
      "collapsed_sections": []
    },
    "kernelspec": {
      "name": "python3",
      "display_name": "Python 3"
    }
  },
  "cells": [
    {
      "cell_type": "markdown",
      "metadata": {
        "id": "Z8p_rVKVWH2w"
      },
      "source": [
        "# IFT6269 - Homework 1 - Maximum Likelihood Estimation\n",
        "\n",
        "**Due**: Tuesday, September 27th, 2022"
      ]
    },
    {
      "cell_type": "markdown",
      "metadata": {
        "id": "erSG6CCYGYE6"
      },
      "source": [
        "#### Name: Tejas Vaidhya\n",
        "#### Student ID: uv56320\n",
        "#### Collaborators: Sophia Gunluk\n",
        "\n"
      ]
    },
    {
      "cell_type": "markdown",
      "metadata": {
        "id": "SloWv9XFBdxL"
      },
      "source": [
        "### Introduction\n",
        "\n",
        "In this question, we are going to numerically explore the MLE of the variance parameter of the Gaussian  \n",
        "\n",
        "### Tasks\n",
        "0.   Get your own copy of this file via \"File > Save a copy in Drive...\";\n",
        "1.   Fill your personal information and collaborators at the top of this assignment, and rename the notebook accordingly, e.g., `hw1_thomasBayes.ipynb`;\n",
        "2.   Read the instructions provided on each section and cell carefully;\n",
        "3.   Implement the missing features for the functions in section **Playground**;\n",
        "4.   Answer the questions in section **Gaussian Maximum Likelihood Estimation**;\n",
        "5.   Share your notebook with `ift6269f22@gmail.com` (\"Share\" button on the top-right corner);\n",
        "6.   Share the link of your notebook on Gradescope (\"Share > Copy Link\", and paste the link in \"Homework 1 (Programming & Checklist)\" on Gradescope).\n",
        "    \n",
        "**Important**: You are allowed to collaborate with other students in both the math and coding parts of this assignment. However, the answers provided here must reflect your individual work. For that reason, you are not allowed to share this notebook, except for your submission to the TA for grading. **Don't forget to pin and save the version of the notebook you want to be graded on!**"
      ]
    },
    {
      "cell_type": "code",
      "metadata": {
        "id": "pJlUxcYmBYCK"
      },
      "source": [
        "import numpy as np\n",
        "import matplotlib.pyplot as plt\n",
        "plt.style.use('seaborn-white')\n",
        "params = {'legend.fontsize': 'x-large',\n",
        "         'axes.labelsize': 'x-large',\n",
        "         'axes.titlesize':'x-large',\n",
        "         'xtick.labelsize':'x-large',\n",
        "         'ytick.labelsize':'x-large'}\n",
        "plt.rcParams.update(params)"
      ],
      "execution_count": null,
      "outputs": []
    },
    {
      "cell_type": "markdown",
      "metadata": {
        "id": "GlnrQnxYunpy"
      },
      "source": [
        "## Playground\n",
        "\n",
        "You are allowed to add as many cells and functions as you wish in this section, but not allowed to change the signature (name and inputs) of the provided functions! Please add all your new auxiliary functions here. "
      ]
    },
    {
      "cell_type": "code",
      "metadata": {
        "id": "EbMexfJ6uxSh"
      },
      "source": [
        "def sample_gaussian_data(num_samples, num_trials):\n",
        "    \"\"\"\n",
        "    # TODO \n",
        "    Generate num_trials sets of samples of a *standard* 1-d Gaussian random variable.\n",
        "    Each set of samples contains num_sample samples\n",
        "\n",
        "        Inputs:\n",
        "            num_samples: [int] Number of samples to generate per trial\n",
        "            num_trials: [int] Number of trials to generate\n",
        "        \n",
        "        Returns:\n",
        "            samples: [num_samples, num_trials] Vector of generated samples\n",
        "    \"\"\"\n",
        "\n",
        "    # TODO\n",
        "    mu, sigma = 0, 1\n",
        "    samples = np.zeros((num_samples, num_trials))\n",
        "    for i in range(num_trials):\n",
        "        samples[:,i] = np.sqrt(sigma)*np.random.randn(num_samples) + mu\n",
        "\n",
        "    return samples\n",
        "\n",
        "def mu_sigma2_mle(samples):\n",
        "    \"\"\"\n",
        "    # TODO \n",
        "    Compute Gaussian MLE estimators for the mean and variance \n",
        "        Inputs:\n",
        "             samples: [num_samples, num_trials] Matrix of N(0, 1) iid samples. \n",
        "                      It contains num_trials sets, each of these sets containing\n",
        "                      num_samples samples.\n",
        "        \n",
        "        Returns:\n",
        "             mu_hat: [num_trials] Vector of MLE mean estimators for each trial\n",
        "             sigma2_hat: [num_trials] Vector of MLE variance estimators for each trial\n",
        "             \n",
        "    \"\"\"\n",
        "    # Useful dimensions\n",
        "    num_samples, num_trials = samples.shape\n",
        "\n",
        "    #TODO\n",
        "    mu_hat = np.zeros(num_trials)\n",
        "    sigma2_hat = np.zeros(num_trials)\n",
        "\n",
        "    for i in range(num_trials):\n",
        "        mu_hat[i] = np.mean(samples[:,i])\n",
        "        sigma2_hat[i] = np.var(samples[:,i])\n",
        "\n",
        "    return mu_hat, sigma2_hat\n",
        "\n",
        "def freq_mean_var(x):\n",
        "    \"\"\"\n",
        "    # TODO \n",
        "    Compute the frequentist mean and variance of a vector of n real numbers \n",
        "        Inputs:\n",
        "             x: [n] Vector of real numbers\n",
        "        \n",
        "        Returns:\n",
        "             (mean, var): [tuple] Frequentist mean and variance of x\n",
        "             \n",
        "    \"\"\"\n",
        "\n",
        "    #TODO\n",
        "    mean = np.mean(x)\n",
        "    var = np.var(x)\n",
        "\n",
        "    return (mean, var)\n",
        "\n",
        "def empirical_frequentist_bias(empirical_mean, true_mean):\n",
        "    \"\"\"\n",
        "    # TODO \n",
        "    Estimate the frequentist bias of an estimator given its empirical and true means \n",
        "        Inputs:\n",
        "             true_mean: [float] True mean of the estimator\n",
        "             empirical_mean: [float] Empirical mean of the estimator\n",
        "             \n",
        "        Returns:\n",
        "             bias: [float] Frequentist bias\n",
        "            \n",
        "    \"\"\"\n",
        "\n",
        "    #TODO\n",
        "    bias = 0\n",
        "    bias = empirical_mean - true_mean\n",
        "    return bias\n",
        "\n",
        "def plot_sigma_hat_histogram(samples, bins=200):\n",
        "    \"\"\"\n",
        "    Plots a histogram of a estimated variances \n",
        "        Inputs:\n",
        "            samples: [array] Estimated variances to be plotted\n",
        "\n",
        "    \"\"\"\n",
        "    # Plot histogram with custom bins for readability.\n",
        "    plt.hist(samples, bins=bins, alpha=0.8, label=r'$\\hat{\\sigma}$' +' histogram');\n",
        "    plt.ylabel('Counts')\n",
        "    plt.xlabel(r'$\\hat{\\sigma^2}$')\n",
        "    plt.legend();"
      ],
      "execution_count": null,
      "outputs": []
    },
    {
      "cell_type": "markdown",
      "metadata": {
        "id": "Eqmd8My_X6eQ"
      },
      "source": [
        "## Gaussian Maximum Likelihood Estimation\n"
      ]
    },
    {
      "cell_type": "markdown",
      "metadata": {
        "id": "CK9tIVvzwcsd"
      },
      "source": [
        "In this section **DO NOT** change the code in any of the cells, unless explicitly stated. Simply answer the questions in the corresponding text cells after having executed your implementation. If you have respected the signature of the functions above in terms of inputs and outputs, your code should run."
      ]
    },
    {
      "cell_type": "markdown",
      "metadata": {
        "id": "oMRtEaq8v9U8"
      },
      "source": [
        "### Sample generation\n",
        "\n",
        "Use the functions defined above to draw $n=5$ samples from the standard Gaussian distribution, $\\mathcal{N}(0,1)$."
      ]
    },
    {
      "cell_type": "code",
      "metadata": {
        "id": "CV8p-HkJv19I",
        "colab": {
          "base_uri": "https://localhost:8080/"
        },
        "outputId": "96da8a03-6456-49d9-c4de-7cc6c9814e55"
      },
      "source": [
        "NUM_SAMPLES = 5\n",
        "\n",
        "samples = sample_gaussian_data(num_samples=NUM_SAMPLES, num_trials=1)\n",
        "\n",
        "print('Generated Gaussian samples')\n",
        "print(samples)"
      ],
      "execution_count": null,
      "outputs": [
        {
          "output_type": "stream",
          "name": "stdout",
          "text": [
            "Generated Gaussian samples\n",
            "[[-1.28371761]\n",
            " [-0.76764836]\n",
            " [-0.50803288]\n",
            " [ 1.92824264]\n",
            " [-0.53505732]]\n"
          ]
        }
      ]
    },
    {
      "cell_type": "markdown",
      "metadata": {
        "id": "CD5_zQ1ywoCR"
      },
      "source": [
        "### MLE computation\n",
        "Compute the ML estimate $\\hat{\\mu}$ for the mean and $\\hat{\\sigma}^2$ for the variance of the Gaussian, as given in Question 3(d). "
      ]
    },
    {
      "cell_type": "code",
      "metadata": {
        "id": "2Yhy5FWMt5gE",
        "colab": {
          "base_uri": "https://localhost:8080/"
        },
        "outputId": "630bf082-e44e-4e12-8755-725355a1656a"
      },
      "source": [
        "mu_hat, sigma2_hat = mu_sigma2_mle(samples)\n",
        "\n",
        "print('MLE mean - variance')\n",
        "print(mu_hat, sigma2_hat)"
      ],
      "execution_count": null,
      "outputs": [
        {
          "output_type": "stream",
          "name": "stdout",
          "text": [
            "MLE mean - variance\n",
            "[-0.2332427] [1.2455415]\n"
          ]
        }
      ]
    },
    {
      "cell_type": "markdown",
      "metadata": {
        "id": "OtW53ntTzotm"
      },
      "source": [
        "### MLE computation\n",
        "Repeat the previous steps 10,000 times.  Plot a histogram of the 10,000 estimates of the Gaussian  variance  parameter  to  show  its  empirical  distribution."
      ]
    },
    {
      "cell_type": "code",
      "metadata": {
        "id": "vPMfMLQgzyEt"
      },
      "source": [
        "NUM_TRIALS = int(1e4)\n",
        "samples = sample_gaussian_data(num_samples=NUM_SAMPLES, num_trials=NUM_TRIALS)\n",
        "_, sigma2_hat_vec = mu_sigma2_mle(samples)"
      ],
      "execution_count": null,
      "outputs": []
    },
    {
      "cell_type": "code",
      "metadata": {
        "id": "hoWL_bRJ0U7K",
        "colab": {
          "base_uri": "https://localhost:8080/",
          "height": 293
        },
        "outputId": "cbf42d0c-df00-4e23-9c52-6a91153fe969"
      },
      "source": [
        "plot_sigma_hat_histogram(sigma2_hat_vec)"
      ],
      "execution_count": null,
      "outputs": [
        {
          "output_type": "display_data",
          "data": {
            "text/plain": [
              "<Figure size 432x288 with 1 Axes>"
            ],
            "image/png": "[encoded data removed]"
          },
          "metadata": {}
        }
      ]
    },
    {
      "cell_type": "markdown",
      "metadata": {
        "id": "Wdt6wOYcz0WY"
      },
      "source": [
        "**Question:** Do you recognize the shape of this histogram? What is it? \n",
        "\n",
        "**Answer:** Histogram is a Gamma Distirbution.\n",
        "\n",
        "let $X_i$ ∀ i $\\in$ {1,2, ... N}  \n",
        "are standard normal random variables\n",
        "\n",
        "$σ^2\\chi^2_{n-1} ∼ \\sum_{i=1}^n(X_i - \\bar{X}^2) $\n",
        "\n",
        "(Cochran's theorem)\n",
        "\n",
        "and, \n",
        "$\\chi^2_{n-1} = Γ(n-1/2, 2)$ (special case of gamma distribution)\n",
        "\n",
        "Hence, \n",
        "\n",
        "$\\hat{σ}^2$ = $1/n \\sum_{i=1}^n(X_i - \\bar{X}^2)$\n",
        "\n",
        "$\\hat{σ}^2$ ∼ $σ^2Χ^2_{n-1}/n $, where σ^2/n is constant \n",
        "\n",
        "$\\hat{σ}^2$ must be gamma distribution with a constant factor of σ^2/n \n",
        "\n",
        "\n",
        "\n"
      ]
    },
    {
      "cell_type": "markdown",
      "metadata": {
        "id": "sGN0em1z0Vif"
      },
      "source": [
        "### Bias and variance of the *estimator*\n",
        "Use *the same* 10,000 repeated trials to numerically estimate the (frequentist) bias and variance of the ML estimate $\\hat{\\sigma}^2$ of the Gaussian variance parameter.\n",
        "\n",
        "Compare the results with the theoretical (frequentist) bias and variance that you can compute from the formula you derived in Question 3(d). \n",
        "\n",
        "*Hint: if your numerical estimates are very far from the theoretical formula, you made a mistake somewhere!*"
      ]
    },
    {
      "cell_type": "code",
      "metadata": {
        "id": "yi_qhsg80ATu",
        "colab": {
          "base_uri": "https://localhost:8080/"
        },
        "outputId": "4b8ae254-f53c-4c1e-84f8-2a560974f9a3"
      },
      "source": [
        "sigma2_hat_mean, sigma2_hat_var = freq_mean_var(sigma2_hat_vec)\n",
        "\n",
        "TRUE_SIGMA2 = 1.\n",
        "\n",
        "# In the next lines, fill in the theoretical bias and variance of $\\hat{\\sigma}^2$\n",
        "THEO_BIAS = -TRUE_SIGMA2/(NUM_SAMPLES) # -\\sigma^2/N\n",
        "THEO_VAR = 2.0* (NUM_SAMPLES-1) * (TRUE_SIGMA2 **2)/(NUM_SAMPLES**2) # (2*(N-1)*\\sigma^4 )/(N^2)\n",
        "\n",
        "emp_bias = empirical_frequentist_bias(empirical_mean=sigma2_hat_mean,\n",
        "                                      true_mean=TRUE_SIGMA2)\n",
        "\n",
        "print('Theoretical Bias: ', THEO_BIAS, ' Freq. Estimated Bias: ', emp_bias)\n",
        "print('Theoretical Variance: ', THEO_VAR, ' Freq. Estimated Variance: ', sigma2_hat_var)"
      ],
      "execution_count": null,
      "outputs": [
        {
          "output_type": "stream",
          "name": "stdout",
          "text": [
            "Theoretical Bias:  -0.2  Freq. Estimated Bias:  -0.1992901532484862\n",
            "Theoretical Variance:  0.32  Freq. Estimated Variance:  0.3202918005950878\n"
          ]
        }
      ]
    },
    {
      "cell_type": "markdown",
      "metadata": {
        "id": "hEIHeZCN5Ogf"
      },
      "source": [
        "**Question:** What conclusions can you draw from the result of this comparison?\n",
        "\n",
        "**Answer:** It validates Law of large number which states that  the average of the results obtained from a large number of trials should be close to the expected values and tends to become closer to the expected value as more trials are performed"
      ]
    },
    {
      "cell_type": "code",
      "metadata": {
        "id": "SP327gUM5YQM"
      },
      "source": [],
      "execution_count": null,
      "outputs": []
    }
  ]
}